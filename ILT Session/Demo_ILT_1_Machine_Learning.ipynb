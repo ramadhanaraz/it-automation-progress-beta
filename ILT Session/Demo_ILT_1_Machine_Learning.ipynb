{
  "cells": [
    {
      "cell_type": "markdown",
      "metadata": {
        "id": "ApHE4w8GU_ep"
      },
      "source": [
        "# Python IT Automation: Intro to Python, Regex, and Bash Scripting\n"
      ]
    },
    {
      "cell_type": "markdown",
      "metadata": {
        "id": "vHzt87DYXZMq"
      },
      "source": [
        "## Hello World in Python"
      ]
    },
    {
      "cell_type": "markdown",
      "metadata": {
        "id": "lqot9q8IYTjE"
      },
      "source": [
        "**What is Python?**\n",
        "\n",
        "Python is a dynamic, interpreted (bytecode-compiled) language. \n",
        "\n",
        "**Why programming with Python?**\n",
        "* Easy syntax\n",
        "* Most chosen language for IT\n",
        "* Omnipresent\n",
        "\n"
      ]
    },
    {
      "cell_type": "code",
      "execution_count": 1,
      "metadata": {
        "colab": {
          "base_uri": "https://localhost:8080/"
        },
        "id": "h2TaBzGjXfrn",
        "outputId": "bcca4889-cc81-4672-c7e5-abf7c15a94a4"
      },
      "outputs": [
        {
          "name": "stdout",
          "output_type": "stream",
          "text": [
            "Python 3.9.5\n"
          ]
        }
      ],
      "source": [
        "! python --version"
      ]
    },
    {
      "cell_type": "code",
      "execution_count": 2,
      "metadata": {
        "colab": {
          "base_uri": "https://localhost:8080/"
        },
        "id": "JCHI9CDAUPnk",
        "outputId": "7ec2c03d-fb21-4e7f-d133-f1188bc9410c"
      },
      "outputs": [
        {
          "name": "stdout",
          "output_type": "stream",
          "text": [
            "hello, bangkit!\n"
          ]
        }
      ],
      "source": [
        "print('hello, bangkit!')"
      ]
    },
    {
      "cell_type": "markdown",
      "metadata": {
        "id": "388VwBZmYPs0"
      },
      "source": [
        "## Basic Python Syntax"
      ]
    },
    {
      "cell_type": "markdown",
      "metadata": {
        "id": "hRw-NPjcZVVe"
      },
      "source": [
        "### Data Types\n",
        "\n",
        "* **String** (str): text.\n",
        "* **Integer** (int): numbers, without fraction.\n",
        "* **Float** (float): numbers with fraction.\n",
        "* **Boolean** (bool): data type which only has 2 values\n",
        "\n",
        "We can convert from one data type to others by committing to implicit conversion or defining an explicit conversion.\n"
      ]
    },
    {
      "cell_type": "markdown",
      "metadata": {
        "id": "M_oidvqRbwPX"
      },
      "source": [
        "### Variables\n",
        "* Name to certain values\n",
        "* The values can be any data type\n",
        "* The process of storing a value inside a variable is called an assignment.\n",
        "* Can only be made up of letters, numbers, and underscore. \n",
        "* Can’t be Python reserved keywords."
      ]
    },
    {
      "cell_type": "code",
      "execution_count": 3,
      "metadata": {
        "colab": {
          "base_uri": "https://localhost:8080/"
        },
        "id": "pd6sULeYYFVm",
        "outputId": "c094a460-2c4b-4033-bdac-2b02bc91eaf5"
      },
      "outputs": [
        {
          "name": "stdout",
          "output_type": "stream",
          "text": [
            "<class 'str'>\n"
          ]
        }
      ],
      "source": [
        "# String (str)\n",
        "color = \"red\"\n",
        "print(type(color))"
      ]
    },
    {
      "cell_type": "code",
      "execution_count": 4,
      "metadata": {
        "colab": {
          "base_uri": "https://localhost:8080/"
        },
        "id": "dnWjuU5VayEf",
        "outputId": "77341cc4-71f9-44db-99fd-0f920812de50"
      },
      "outputs": [
        {
          "name": "stdout",
          "output_type": "stream",
          "text": [
            "<class 'int'>\n"
          ]
        }
      ],
      "source": [
        "# Integer (int)\n",
        "length = 10\n",
        "print(type(length))"
      ]
    },
    {
      "cell_type": "code",
      "execution_count": 5,
      "metadata": {
        "colab": {
          "base_uri": "https://localhost:8080/"
        },
        "id": "5m38VmsTbCk0",
        "outputId": "7b8ecdb8-c5d4-4a95-97bd-3dcb90c15ec8"
      },
      "outputs": [
        {
          "name": "stdout",
          "output_type": "stream",
          "text": [
            "<class 'float'>\n"
          ]
        }
      ],
      "source": [
        "# Float\n",
        "width = 2.0\n",
        "print(type(width))"
      ]
    },
    {
      "cell_type": "code",
      "execution_count": 6,
      "metadata": {
        "colab": {
          "base_uri": "https://localhost:8080/"
        },
        "id": "xumnREkBhWip",
        "outputId": "8ae96319-92db-4177-d273-422db1a775a7"
      },
      "outputs": [
        {
          "name": "stdout",
          "output_type": "stream",
          "text": [
            "<class 'bool'>\n"
          ]
        }
      ],
      "source": [
        "# Boolean\n",
        "Boolean = True\n",
        "print(type(Boolean))"
      ]
    },
    {
      "cell_type": "code",
      "execution_count": 7,
      "metadata": {
        "colab": {
          "base_uri": "https://localhost:8080/",
          "height": 35
        },
        "id": "oDhQFp9hjfko",
        "outputId": "62e342a4-5a00-4a94-b604-382621336416"
      },
      "outputs": [
        {
          "data": {
            "text/plain": [
              "'2.0'"
            ]
          },
          "execution_count": 7,
          "metadata": {},
          "output_type": "execute_result"
        }
      ],
      "source": [
        "str(width)"
      ]
    },
    {
      "cell_type": "code",
      "execution_count": 8,
      "metadata": {
        "colab": {
          "base_uri": "https://localhost:8080/"
        },
        "id": "b3mU-O3CbOCG",
        "outputId": "1b122706-ac71-4039-abe7-9655397f7b83"
      },
      "outputs": [
        {
          "name": "stdout",
          "output_type": "stream",
          "text": [
            "<class 'int'>\n"
          ]
        }
      ],
      "source": [
        "print(type(int(width)))"
      ]
    },
    {
      "cell_type": "markdown",
      "metadata": {
        "id": "K3E-I51FcUmB"
      },
      "source": [
        "**Don't Do This**"
      ]
    },
    {
      "cell_type": "code",
      "execution_count": 9,
      "metadata": {
        "colab": {
          "base_uri": "https://localhost:8080/",
          "height": 130
        },
        "id": "dGftZ9LabgwV",
        "outputId": "dd9b0a8b-7268-4b11-e2f5-683090916db7"
      },
      "outputs": [
        {
          "ename": "SyntaxError",
          "evalue": "invalid syntax (Temp/ipykernel_14524/2213772507.py, line 1)",
          "output_type": "error",
          "traceback": [
            "\u001b[1;36m  File \u001b[1;32m\"C:\\Users\\WINDOWS\\AppData\\Local\\Temp/ipykernel_14524/2213772507.py\"\u001b[1;36m, line \u001b[1;32m1\u001b[0m\n\u001b[1;33m    def = \"Function\"\u001b[0m\n\u001b[1;37m        ^\u001b[0m\n\u001b[1;31mSyntaxError\u001b[0m\u001b[1;31m:\u001b[0m invalid syntax\n"
          ]
        }
      ],
      "source": [
        "def = \"Function\"\n",
        "class = \"Class\""
      ]
    },
    {
      "cell_type": "markdown",
      "metadata": {
        "id": "XyqGDWKNce5N"
      },
      "source": [
        "### Functions\n",
        "* Define function with def keyword.\n",
        "* Function has body, written as a block after colon in function definition. The block has indented to the right.\n",
        "* To get value from a function use the return keyword.\n"
      ]
    },
    {
      "cell_type": "code",
      "execution_count": null,
      "metadata": {
        "colab": {
          "base_uri": "https://localhost:8080/"
        },
        "id": "-xDdDieMcaEv",
        "outputId": "1e0a9206-7f5a-448f-b5d2-4cec8e186150"
      },
      "outputs": [
        {
          "name": "stdout",
          "output_type": "stream",
          "text": [
            "Hello, Bangkit 2022\n"
          ]
        }
      ],
      "source": [
        "def greeting(name):\n",
        "  return 'Hello, ' + name\n",
        "\n",
        "print(greeting(\"Bangkit 2022\"))"
      ]
    },
    {
      "cell_type": "code",
      "execution_count": null,
      "metadata": {
        "colab": {
          "base_uri": "https://localhost:8080/"
        },
        "id": "ykQ1JGzrwB2h",
        "outputId": "0b9e13c8-fd15-489a-ad67-b77ed824b474"
      },
      "outputs": [
        {
          "name": "stdout",
          "output_type": "stream",
          "text": [
            "None\n"
          ]
        }
      ],
      "source": [
        "def greeting(name):\n",
        "  text =  'Hello, ' + name\n",
        "\n",
        "print(greeting(\"Bangkit 2022\"))"
      ]
    },
    {
      "cell_type": "markdown",
      "metadata": {
        "id": "xYCEhaOlfbK0"
      },
      "source": [
        "### Comparison\n",
        "* Boolean (bool) data type represents one of two possible states, either True or False.\n",
        "* Not all data types can be compared, so be aware to compare two different data types.\n",
        "* Comparison operator not only checking equality and less/more it also includes logical operator: and, or, not.\n"
      ]
    },
    {
      "cell_type": "code",
      "execution_count": 10,
      "metadata": {
        "colab": {
          "base_uri": "https://localhost:8080/"
        },
        "id": "E5dQxPXMfnLZ",
        "outputId": "646e33aa-1011-4684-f59e-bceb0701f42e"
      },
      "outputs": [
        {
          "name": "stdout",
          "output_type": "stream",
          "text": [
            "True\n",
            "False\n",
            "True\n",
            "False\n"
          ]
        }
      ],
      "source": [
        "print(1 < 10)\n",
        "\n",
        "print(\"Linux\" == \"Windows\")\n",
        "\n",
        "print(1 != \"1\")\n",
        "\n",
        "print(not True)\n"
      ]
    },
    {
      "cell_type": "markdown",
      "metadata": {
        "id": "x79WDe4vf4Ve"
      },
      "source": [
        "* Comparison operators\n",
        "  * a == b: a is equal to b\n",
        "  * a != b: a is different than b\n",
        "  * a < b: a is smaller than b\n",
        "  * a <= b: a is smaller or equal to b\n",
        "  * a > b: a is bigger than b\n",
        "  * a >= b: a is bigger or equal to b\n",
        "\n",
        "* Logical operators\n",
        "  * a and b: True if both a and b are True. False otherwise.\n",
        "  * a or b: True if either a or b or both are True. False if both are False.\n",
        "  * not a: True if a is False, False if a is True.\n"
      ]
    },
    {
      "cell_type": "markdown",
      "metadata": {
        "id": "DM6lel6hc_QH"
      },
      "source": [
        "### Conditional & If Statements\n",
        "* The ability of a program to alter its execution sequence is called branching.\n",
        "* The if block will be executed only if the condition is True.\n",
        "* Use elif & else statement to handle multiple conditions. "
      ]
    },
    {
      "cell_type": "code",
      "execution_count": 11,
      "metadata": {
        "colab": {
          "base_uri": "https://localhost:8080/"
        },
        "id": "IwHO0YxSc2Hf",
        "outputId": "ca80caa9-6bdf-4b73-fae3-3029b4f7257c"
      },
      "outputs": [
        {
          "name": "stdout",
          "output_type": "stream",
          "text": [
            "Good morning!\n"
          ]
        }
      ],
      "source": [
        "hour = 11\n",
        "if hour < 12:\n",
        "  print(\"Good morning!\")"
      ]
    },
    {
      "cell_type": "code",
      "execution_count": 12,
      "metadata": {
        "colab": {
          "base_uri": "https://localhost:8080/"
        },
        "id": "ycVxi8cEdTyt",
        "outputId": "d0891229-c5ed-45e5-eee3-4bb460467f2d"
      },
      "outputs": [
        {
          "name": "stdout",
          "output_type": "stream",
          "text": [
            "Negative\n"
          ]
        }
      ],
      "source": [
        "def check(number):\n",
        "    if number > 0:\n",
        "        return \"Positive\"\n",
        "    elif number == 0:\n",
        "        return \"Zero\"\n",
        "    else: \n",
        "        return \"Negative\"\n",
        "\n",
        "print(check(-10))"
      ]
    },
    {
      "cell_type": "markdown",
      "metadata": {
        "id": "EBeW3s6kgevL"
      },
      "source": [
        "### Loops\n",
        "\n",
        "**while** loop instruct computer to continuously execute code based on the value of a condition.\n",
        "\n",
        "\n"
      ]
    },
    {
      "cell_type": "code",
      "execution_count": 14,
      "metadata": {
        "colab": {
          "base_uri": "https://localhost:8080/"
        },
        "id": "ZKXR6gZGfRI_",
        "outputId": "aaf56eec-7b33-4045-c16a-69d411516692"
      },
      "outputs": [
        {
          "name": "stdout",
          "output_type": "stream",
          "text": [
            "positive x=30\n",
            "now x=29\n",
            "positive x=29\n",
            "now x=28\n",
            "positive x=28\n",
            "now x=27\n",
            "positive x=27\n",
            "now x=26\n",
            "positive x=26\n",
            "now x=25\n",
            "positive x=25\n",
            "now x=24\n",
            "positive x=24\n",
            "now x=23\n",
            "positive x=23\n",
            "now x=22\n",
            "positive x=22\n",
            "now x=21\n",
            "positive x=21\n",
            "now x=20\n",
            "positive x=20\n",
            "now x=19\n",
            "positive x=19\n",
            "now x=18\n",
            "positive x=18\n",
            "now x=17\n",
            "positive x=17\n",
            "now x=16\n",
            "positive x=16\n",
            "now x=15\n",
            "positive x=15\n",
            "now x=14\n",
            "positive x=14\n",
            "now x=13\n",
            "positive x=13\n",
            "now x=12\n",
            "positive x=12\n",
            "now x=11\n",
            "positive x=11\n",
            "now x=10\n",
            "positive x=10\n",
            "now x=9\n",
            "positive x=9\n",
            "now x=8\n",
            "positive x=8\n",
            "now x=7\n",
            "positive x=7\n",
            "now x=6\n",
            "positive x=6\n",
            "now x=5\n",
            "positive x=5\n",
            "now x=4\n",
            "positive x=4\n",
            "now x=3\n",
            "positive x=3\n",
            "now x=2\n",
            "positive x=2\n",
            "now x=1\n",
            "positive x=1\n",
            "now x=0\n"
          ]
        }
      ],
      "source": [
        "x = 30  # also try with x = 0\n",
        "\n",
        "while x > 0:\n",
        "  print(\"positive x=\" + str(x))\n",
        "  x = x - 1\n",
        "  print(\"now x=\" + str(x))\n"
      ]
    },
    {
      "cell_type": "markdown",
      "metadata": {
        "id": "mBicYfLNgqBU"
      },
      "source": [
        "\n",
        "**for** loop iterates over a sequence of values."
      ]
    },
    {
      "cell_type": "code",
      "execution_count": null,
      "metadata": {
        "colab": {
          "base_uri": "https://localhost:8080/"
        },
        "id": "ItDfsx5-grSM",
        "outputId": "2359d450-dac7-488e-db34-deafdd9d0394"
      },
      "outputs": [
        {
          "name": "stdout",
          "output_type": "stream",
          "text": [
            "x=0\n",
            "x=1\n",
            "x=2\n"
          ]
        }
      ],
      "source": [
        "for x in range(3):\n",
        "  print(\"x=\" + str(x))"
      ]
    },
    {
      "cell_type": "markdown",
      "metadata": {
        "id": "Nr8XRQx6hMYI"
      },
      "source": [
        "Both while and for loops can be interrupted using the **break** keyword. \n",
        "\n"
      ]
    },
    {
      "cell_type": "code",
      "execution_count": null,
      "metadata": {
        "colab": {
          "base_uri": "https://localhost:8080/"
        },
        "id": "vt5AIOQtg5wd",
        "outputId": "22bdbf6b-5b62-412b-8ee3-e75e0250b27d"
      },
      "outputs": [
        {
          "name": "stdout",
          "output_type": "stream",
          "text": [
            "x=0\n",
            "x=1\n"
          ]
        }
      ],
      "source": [
        "for x in range(3):\n",
        "    print(\"x=\" + str(x))\n",
        "    if x == 1:\n",
        "        break  # quit from loop\n"
      ]
    },
    {
      "cell_type": "markdown",
      "metadata": {
        "id": "LAdX1_e6hU2x"
      },
      "source": [
        "Use the **continue** keyword to skip the current iteration and continue with the next one."
      ]
    },
    {
      "cell_type": "code",
      "execution_count": null,
      "metadata": {
        "colab": {
          "base_uri": "https://localhost:8080/"
        },
        "id": "KWEYYL7AhO4t",
        "outputId": "6820b09a-406c-4b9e-d5f8-f03be04c4d65"
      },
      "outputs": [
        {
          "name": "stdout",
          "output_type": "stream",
          "text": [
            "3\n",
            "1\n"
          ]
        }
      ],
      "source": [
        "for x in range(3, 0, -1):\n",
        "    if x % 2 == 0:\n",
        "        continue  # skip even\n",
        "    print(x)\n"
      ]
    },
    {
      "cell_type": "markdown",
      "metadata": {
        "id": "QkwBAt7HhsIU"
      },
      "source": [
        "## Python Data Structure\n"
      ]
    },
    {
      "cell_type": "markdown",
      "metadata": {
        "id": "2A_xK5CkiPcx"
      },
      "source": [
        "### Strings\n",
        "\n",
        "* **Represent a piece of text**.\n",
        "\n",
        "String is a data type in Python employed to represent a piece of text. It’s written between quotes, either single quotes, double quotes, or triple quotes. Escape character using backslash (\\).\n",
        "\n",
        "String can be as short as zero characters (empty string) or significantly long. String concatenation using plus sign (+). The **len** function tells the number of characters contained in the string.\n"
      ]
    },
    {
      "cell_type": "code",
      "execution_count": null,
      "metadata": {
        "colab": {
          "base_uri": "https://localhost:8080/"
        },
        "id": "cZFRNf77i91s",
        "outputId": "40585e43-d9ae-4698-a2a1-947980b688e0"
      },
      "outputs": [
        {
          "name": "stdout",
          "output_type": "stream",
          "text": [
            "let's\n",
            "\"bangkit\"\n",
            "0\n",
            "True\n"
          ]
        }
      ],
      "source": [
        "program_name = 'bangkit'\n",
        "program_year = \"it's the 2nd\"\n",
        "multi_line = \"\"\"hello,\n",
        "email test.\n",
        "signature.\"\"\"\n",
        "  \n",
        "# let's\n",
        "# \"bangkit\"\n",
        "print(\"let's\\n\\\"\"+program_name+\"\\\"\")\n",
        "\n",
        "\n",
        "print(len(''))  # 0\n",
        "print(len(program_name)==7)  # True\n"
      ]
    },
    {
      "cell_type": "markdown",
      "metadata": {
        "id": "A0vx0h5Yi-oc"
      },
      "source": [
        "* **To access substring, use index or slicing**.\n",
        "\n",
        "Python starts counting indexes from 0 not 1. Access index greater than its length - 1, triggers index out of range. Negative indexes starts from behind.\n",
        "\n",
        "To access substring, use slicing, similar to index, with range using a colon as a separator, starts from first number, up to 1 less than last.\n",
        "\n",
        "Slicing with one of two indexes means the other index is either 0 for the first value or its length for the second value.\n"
      ]
    },
    {
      "cell_type": "code",
      "execution_count": null,
      "metadata": {
        "colab": {
          "base_uri": "https://localhost:8080/"
        },
        "id": "CWK5PbZMhP-E",
        "outputId": "19cd5a92-e738-4f29-f3b7-b0097b7f9e01"
      },
      "outputs": [
        {
          "name": "stdout",
          "output_type": "stream",
          "text": [
            "a\n",
            "t\n",
            "t\n",
            "i\n",
            "ki\n",
            "bang\n",
            "kit\n"
          ]
        }
      ],
      "source": [
        "name = 'bangkit'\n",
        "print(name[1])  # a\n",
        "print(name[len(name)-1])  # t\n",
        "print(name[-1])  # t\n",
        "print(name[-2])  # i\n",
        "  \n",
        "print(name[4:len(name)-1])  # ki\n",
        "  \n",
        "print(name[:4])  # bang (0-3)\n",
        "print(name[4:])  # kit  (4-len)"
      ]
    },
    {
      "cell_type": "markdown",
      "metadata": {
        "id": "oM--5287iyJO"
      },
      "source": [
        "* **Strings in Python are immutable**\n",
        "\n",
        "Strings in Python are immutable, meaning they can't be modified, can’t change individual characters. It'll trigger TypeError object does not support item assignment.\n",
        "\n",
        "To change string, replace it with the new string.\n",
        "\n",
        "Use in keyword to check if substring is a part of the string."
      ]
    },
    {
      "cell_type": "code",
      "execution_count": null,
      "metadata": {
        "colab": {
          "base_uri": "https://localhost:8080/",
          "height": 182
        },
        "id": "GKVOcTT9ijAi",
        "outputId": "1b757ee3-7954-46ff-b768-42c1ef6fc8b0"
      },
      "outputs": [
        {
          "ename": "TypeError",
          "evalue": "ignored",
          "output_type": "error",
          "traceback": [
            "\u001b[0;31m---------------------------------------------------------------------------\u001b[0m",
            "\u001b[0;31mTypeError\u001b[0m                                 Traceback (most recent call last)",
            "\u001b[0;32m<ipython-input-18-140468fc7539>\u001b[0m in \u001b[0;36m<module>\u001b[0;34m()\u001b[0m\n\u001b[1;32m      1\u001b[0m \u001b[0myear\u001b[0m \u001b[0;34m=\u001b[0m \u001b[0;34m\"it's 2021\"\u001b[0m\u001b[0;34m\u001b[0m\u001b[0;34m\u001b[0m\u001b[0m\n\u001b[0;32m----> 2\u001b[0;31m \u001b[0myear\u001b[0m\u001b[0;34m[\u001b[0m\u001b[0;34m-\u001b[0m\u001b[0;36m1\u001b[0m\u001b[0;34m]\u001b[0m \u001b[0;34m=\u001b[0m \u001b[0;34m\"0\"\u001b[0m  \u001b[0;31m# TypeError\u001b[0m\u001b[0;34m\u001b[0m\u001b[0;34m\u001b[0m\u001b[0m\n\u001b[0m",
            "\u001b[0;31mTypeError\u001b[0m: 'str' object does not support item assignment"
          ]
        }
      ],
      "source": [
        "year = \"it's 2021\"\n",
        "year[-1] = \"0\"  # TypeError"
      ]
    },
    {
      "cell_type": "markdown",
      "metadata": {
        "id": "vW6HqPvQi0MU"
      },
      "source": [
        "* **Provide a bunch of methods for working with text**\n",
        "\n",
        "String class provide a bunch of methods for working with text. Not only related to text modification, there's also many of text checking method.\n",
        "\n",
        "Remember, the goal is not for memorize all of the methods, just check the documentation or search on the web anytime."
      ]
    },
    {
      "cell_type": "code",
      "execution_count": null,
      "metadata": {
        "colab": {
          "base_uri": "https://localhost:8080/"
        },
        "id": "mOoxsQWHhqrM",
        "outputId": "bda238dc-f633-4b93-844c-6b597fae6cb0"
      },
      "outputs": [
        {
          "name": "stdout",
          "output_type": "stream",
          "text": [
            "3\n",
            "BANGKIT 2021\n",
            "True\n",
            "bangkit 2020\n",
            "True\n",
            "bangkit for 2021\n"
          ]
        }
      ],
      "source": [
        "program = 'bangkit 2021'\n",
        "print(program.index('g'))  # 3\n",
        "\n",
        "print(program.upper())  # BANGKIT 2021\n",
        "print(program.endswith('2021'))  # True\n",
        "print(program.replace('2021', '2020'))\n",
        "\n",
        "year = 2021  # integer 2021\n",
        "print(str(year).isnumeric())  # True\n",
        "# bangkit for 2021\n",
        "print(\"{} for {}\".format(\"bangkit\", year))\n"
      ]
    },
    {
      "cell_type": "markdown",
      "metadata": {
        "id": "22aFhqCfpJZY"
      },
      "source": [
        "### List\n",
        "Think of list as container with space inside divided up into different slots. Each slot can contain a different value.\n",
        "\n",
        "Python use square brackets [] to indicate where the list starts and ends. list indexes starts from 0, just like string, also slicing to return another list.\n",
        "\n"
      ]
    },
    {
      "cell_type": "code",
      "execution_count": null,
      "metadata": {
        "colab": {
          "base_uri": "https://localhost:8080/"
        },
        "id": "qVKkXwBbimF1",
        "outputId": "3de8150e-4227-426c-fb3b-750d2d0f8c23"
      },
      "outputs": [
        {
          "name": "stdout",
          "output_type": "stream",
          "text": [
            "<class 'list'>\n",
            "[2020, 2021]\n",
            "2\n",
            "False\n",
            "2020\n",
            "[2020]\n",
            "2020\n",
            "2021\n"
          ]
        }
      ],
      "source": [
        "program_year = [2020, 2021]\n",
        "\n",
        "print(type(program_year))    # list\n",
        "print(program_year)\n",
        "print(len(program_year))     # 2\n",
        "print(2019 in program_year)  # False\n",
        "\n",
        "print(program_year[0])       # 2020\n",
        "print(program_year[:1])     # [2020]\n",
        "\n",
        "for year in program_year:\n",
        "    print(year)  # element per line\n"
      ]
    },
    {
      "cell_type": "markdown",
      "metadata": {
        "id": "DSV5WUSdpqaN"
      },
      "source": [
        "If strings are immutable, lists are mutable, means able to add, remove, or modify elements in a list.\n",
        "\n",
        "Use append to add to last element. To add on specific index, use insert. To delete element, use remove with element or pop with index.\n",
        "\n",
        "For element modification, change directly to the specific index.\n",
        "\n"
      ]
    },
    {
      "cell_type": "code",
      "execution_count": null,
      "metadata": {
        "colab": {
          "base_uri": "https://localhost:8080/"
        },
        "id": "APtq9qGGpo-G",
        "outputId": "657d34c7-740c-434c-8a7c-48f60207a714"
      },
      "outputs": [
        {
          "name": "stdout",
          "output_type": "stream",
          "text": [
            "3\n",
            "['ML', 'Mobile', 'Cloud']\n"
          ]
        }
      ],
      "source": [
        "paths = ['ML', 'Cloud']\n",
        "paths.append('Android')\n",
        "print(len(paths))  # 3\n",
        "paths.remove('Android')\n",
        "paths.insert(1, 'Mobile')\n",
        "\n",
        "# ['ML', 'Mobile', 'Cloud']\n",
        "print(paths)\n",
        "paths.append('Python')\n",
        "paths.pop(-1)  # remove 'Python'\n",
        "\n",
        "# change 'ML' to 'Machine Learning'\n",
        "paths[0] = 'Machine Learning'\n"
      ]
    },
    {
      "cell_type": "markdown",
      "metadata": {
        "id": "l8T_Z2JqpzJr"
      },
      "source": [
        "We can create a new list from a sequence or a range in single line using list comprehensions.\n",
        "\n",
        "List comprehensions can be really powerful, but can also be utterly complex, resulting to codes that are hard to read.\n"
      ]
    },
    {
      "cell_type": "code",
      "execution_count": null,
      "metadata": {
        "colab": {
          "base_uri": "https://localhost:8080/"
        },
        "id": "F-x8LfZApd4M",
        "outputId": "23f417ac-f61a-4b22-f793-3e44d165e50f"
      },
      "outputs": [
        {
          "name": "stdout",
          "output_type": "stream",
          "text": [
            "[2, 4, 6, 8]\n",
            "[0, 10, 20, 30, 40]\n"
          ]
        }
      ],
      "source": [
        "even = [x*2 for x in range(1,5)]\n",
        "print(even)  # [2, 4, 6, 8]\n",
        "\n",
        "tens = [x for x in range(50) if x % 10 == 0]\n",
        "print(tens)  # [0, 10, 20, 30, 40]"
      ]
    },
    {
      "cell_type": "markdown",
      "metadata": {
        "id": "xEP2xasmqVia"
      },
      "source": [
        "### Tuples\n",
        "Tuples are like lists. They can contain elements of any data type. But, unlike lists, tuples are immutable.\n",
        "\n",
        "Python using parentheses () to indicate where the tuple starts and ends.\n",
        "\n",
        "Good example of tuple is when a function returns multiple values.\n",
        "\n",
        "Strings, Lists, and Tuples are included as sequence types.\n",
        "\n"
      ]
    },
    {
      "cell_type": "code",
      "execution_count": null,
      "metadata": {
        "colab": {
          "base_uri": "https://localhost:8080/"
        },
        "id": "hkcAx9Uvp7UT",
        "outputId": "e373c648-f5e2-416e-e544-023d0715fb00"
      },
      "outputs": [
        {
          "name": "stdout",
          "output_type": "stream",
          "text": [
            "(4, 16, 4.0)\n",
            "<class 'tuple'>\n",
            "4\n",
            "16\n",
            "4.0\n"
          ]
        }
      ],
      "source": [
        "def get_stat(numbers):\n",
        "  total = sum(numbers)\n",
        "  length = len(numbers)\n",
        "  mean = total / length\n",
        "  return length, total, mean\n",
        "\n",
        "stat = get_stat([1, 3, 5, 7])\n",
        "print(stat)  # (4, 16, 4.0)\n",
        "print(type(stat))  # tuple\n",
        "\n",
        "for data in stat:\n",
        "    print(data)  # element per line\n"
      ]
    },
    {
      "cell_type": "markdown",
      "metadata": {
        "id": "VyUHUCubquWv"
      },
      "source": [
        "### Dictionaries\n",
        "Like lists, dictionaries are used to organize elements into collections. Unlike lists, not accessing elements inside dictionaries using position.\n",
        "\n",
        "Data inside dictionaries take the form of **pairs of keys and values**. To get a dictionary value, use its corresponding key.\n",
        "\n",
        "Not like list index must be a number, type of key in dictionary use strings, integers, tuples & more.\n",
        "dictionary use curly brackets {}.\n",
        "\n"
      ]
    },
    {
      "cell_type": "code",
      "execution_count": null,
      "metadata": {
        "colab": {
          "base_uri": "https://localhost:8080/"
        },
        "id": "uNCwOcZkqdrs",
        "outputId": "e3e13bc0-b10a-4e02-889e-52597dd79960"
      },
      "outputs": [
        {
          "name": "stdout",
          "output_type": "stream",
          "text": [
            "<class 'dict'>\n",
            "900\n",
            "ml: 500\n",
            "mobile: 700\n",
            "cloud: 900\n"
          ]
        }
      ],
      "source": [
        "students = {\n",
        "    'ml': 500,\n",
        "    'mobile': 700,\n",
        "    'cloud': 900\n",
        "}\n",
        "print(type(students))     # dict\n",
        "print(students['cloud'])  # 900\n",
        "\n",
        "# keys: ['ml', 'mobile', 'cloud']\n",
        "for key in students.keys():\n",
        "    # eg: ml:500\n",
        "    print(key + ': '+ str(students[key]))\n"
      ]
    },
    {
      "cell_type": "markdown",
      "metadata": {
        "id": "4hIPmXQtsdBk"
      },
      "source": [
        "Use for loops to iterate through the contents of dictionary (implicitly over keys).\n",
        "\n",
        "To get both key and value as tuple at the same time, use items.\n",
        "\n",
        "Other than using keys to get all keys, use values to get all dictionary values.\n",
        "\n"
      ]
    },
    {
      "cell_type": "code",
      "execution_count": null,
      "metadata": {
        "colab": {
          "base_uri": "https://localhost:8080/"
        },
        "id": "4WNUwL3AscOs",
        "outputId": "8439cb18-c6e8-4b63-f273-69d9040582cd"
      },
      "outputs": [
        {
          "name": "stdout",
          "output_type": "stream",
          "text": [
            "jpg\n",
            "txt\n",
            "csv\n",
            "py\n",
            "10 files .jpg\n",
            "14 files .txt\n",
            "2 files .csv\n",
            "23 files .py\n"
          ]
        }
      ],
      "source": [
        "file_counts = {\"jpg\": 10,\n",
        "               \"txt\": 14,\n",
        "               \"csv\": 2,\n",
        "               \"py\": 23}\n",
        "for extension in file_counts:\n",
        "    print(extension)  # eg: jpg\n",
        "\n",
        "\n",
        "for ext, amount in file_counts.items():\n",
        "    print('{} files .{}'\n",
        "          .format(amount, ext))\n"
      ]
    },
    {
      "cell_type": "markdown",
      "metadata": {
        "id": "kSk-8dggssPz"
      },
      "source": [
        "Just like lists, dictionaries are mutable, means able to add, remove, or modify elements in a dictionary.\n",
        "\n",
        "Set new value using associated key. Add item (pairs of key & value) by set new key with new value. Delete item with del keyword or delete all items using clear.\n",
        "\n",
        "Use dictionary over list if aims to access data via its key instead of iterate to find the key.\n"
      ]
    },
    {
      "cell_type": "code",
      "execution_count": null,
      "metadata": {
        "colab": {
          "base_uri": "https://localhost:8080/"
        },
        "id": "xuKXlcZWsrup",
        "outputId": "cbcbe92b-5cc0-4a0d-b228-47255b15c439"
      },
      "outputs": [
        {
          "name": "stdout",
          "output_type": "stream",
          "text": [
            "1\n",
            "{}\n",
            "{}\n"
          ]
        }
      ],
      "source": [
        "# point in line y = 2x + 1\n",
        "point_a = {'x': 2, 'y': 5}\n",
        "point_a['x'] = 3\n",
        "point_a['y'] = 7\n",
        "\n",
        "\n",
        "new_point = {}  # empty dictionary\n",
        "new_point['z'] = 2\n",
        "print(len(new_point.keys()))  # 1\n",
        "del new_point['z']  # remove item\n",
        "print(new_point)    # {}\n",
        "\n",
        "\n",
        "new_point = {'x': 0, 'y': 1}\n",
        "new_point.clear()\n",
        "print(new_point)    # {}\n"
      ]
    },
    {
      "cell_type": "markdown",
      "metadata": {
        "id": "Ix5rz1cgr-gu"
      },
      "source": [
        "## Regular Expressions (Regex)\n",
        "\n",
        "A regular expression, also known as regex or regexp, is essentially a search query for text that’s expressed by string pattern.\n",
        "\n",
        "There are multiple different ways through which we can apply regular expressions, a whole wide range of programming languages, includes Python. Also command line tools that know how to apply regexes, like grep, sed or awk. The implementation may vary, but the principles remain the same.\n",
        "\n"
      ]
    },
    {
      "cell_type": "markdown",
      "metadata": {
        "id": "6zcosPuwsM79"
      },
      "source": [
        "* Regular expressions in Python uses raw string (r\"\"). It means that interpreter shouldn't try to interpret any special characters. Just pass the string to the function as is.\n",
        "* The Match object includes information like position in the string that matched and the actual matching string.\n",
        "\n",
        "\n"
      ]
    },
    {
      "cell_type": "code",
      "execution_count": null,
      "metadata": {
        "colab": {
          "base_uri": "https://localhost:8080/"
        },
        "id": "nOAHvuvvuV5R",
        "outputId": "e3a0e4ce-81dd-4a50-99da-4574ca4e5c5f"
      },
      "outputs": [
        {
          "name": "stdout",
          "output_type": "stream",
          "text": [
            "<re.Match object; span=(2, 5), match='aza'>\n",
            "None\n"
          ]
        }
      ],
      "source": [
        "import re\n",
        "\n",
        "\n",
        "result = re.search(r\"aza\", \"plaza\")\n",
        "print(result)\n",
        "# <re.Match object; span=(2, 5), match='aza'>\n",
        "print(re.search(r\"aza\", \"maze\"))\n",
        "# None"
      ]
    },
    {
      "cell_type": "markdown",
      "metadata": {
        "id": "3aL1F5a7uZDL"
      },
      "source": [
        "* Circumflex (^) pattern matches the beginning of the line. Dot (.) matches any character. Option re.IGNORECASE to match insensitive case."
      ]
    },
    {
      "cell_type": "code",
      "execution_count": null,
      "metadata": {
        "colab": {
          "base_uri": "https://localhost:8080/"
        },
        "id": "CJn7iAFpsLjh",
        "outputId": "58234622-8300-45ec-fb55-5720e7ed7dad"
      },
      "outputs": [
        {
          "name": "stdout",
          "output_type": "stream",
          "text": [
            "<re.Match object; span=(0, 1), match='x'>\n",
            "<re.Match object; span=(1, 5), match='pong'>\n"
          ]
        }
      ],
      "source": [
        "print(re.search(r\"^x\", \"xenon\"))\n",
        "# <re.Match object; span=(0, 1), match='x'>\n",
        "\n",
        "print(re.search(r\"p.ng\", \"sponge\"))\n",
        "# <re.Match object; span=(1, 5), match='pong'>\n"
      ]
    },
    {
      "cell_type": "markdown",
      "metadata": {
        "id": "mhL2gjujxQ17"
      },
      "source": [
        "* To matched a range of characters, use another feature of regexes called character classes ([ ]).\n"
      ]
    },
    {
      "cell_type": "code",
      "execution_count": null,
      "metadata": {
        "colab": {
          "base_uri": "https://localhost:8080/"
        },
        "id": "Wpfo9E3aq-PI",
        "outputId": "f2b7cd6a-8844-4717-c140-1bcb70286cdf"
      },
      "outputs": [
        {
          "name": "stdout",
          "output_type": "stream",
          "text": [
            "<re.Match object; span=(0, 6), match='cloud9'>\n",
            "<re.Match object; span=(4, 5), match=' '>\n"
          ]
        }
      ],
      "source": [
        "print(re.search(r\"cloud[a-zA-Z0-9]\", \"cloud9\"))\n",
        "# <re.Match object; span=(0, 6), match='cloud9'>\n",
        "\n",
        "print(re.search(r\"[^a-zA-Z]\", \"This is a sentence.\"))\n",
        "# <re.Match object; span=(4, 5), match=' '>"
      ]
    },
    {
      "cell_type": "markdown",
      "metadata": {
        "id": "7krjV5equfvW"
      },
      "source": [
        "* Use the pipe symbol (|) to match one expression or another."
      ]
    },
    {
      "cell_type": "code",
      "execution_count": null,
      "metadata": {
        "colab": {
          "base_uri": "https://localhost:8080/"
        },
        "id": "LNkO7WZZukUH",
        "outputId": "67575b58-7b34-468f-c1ec-14bd007c92b0"
      },
      "outputs": [
        {
          "name": "stdout",
          "output_type": "stream",
          "text": [
            "<re.Match object; span=(7, 10), match='cat'>\n"
          ]
        }
      ],
      "source": [
        "print(re.search(r\"cat|dog\", \"I like cats.\"))\n",
        "# <re.Match object; span=(7, 10), match='cat'>"
      ]
    },
    {
      "cell_type": "markdown",
      "metadata": {
        "id": "eg7gKGMPuioi"
      },
      "source": [
        "* Dollar sign ($) pattern match the end of the line."
      ]
    },
    {
      "cell_type": "code",
      "execution_count": null,
      "metadata": {
        "colab": {
          "base_uri": "https://localhost:8080/"
        },
        "id": "STqJHazoun1y",
        "outputId": "e5bf1ae4-0d10-4a05-c3f3-941fd2b27418"
      },
      "outputs": [
        {
          "name": "stdout",
          "output_type": "stream",
          "text": [
            "None\n"
          ]
        }
      ],
      "source": [
        "print(re.search(r\"cat$\", \"I like cats.\"))\n",
        "# None"
      ]
    },
    {
      "cell_type": "markdown",
      "metadata": {
        "id": "i9_mHgy6xh9d"
      },
      "source": [
        "Repeated matches is another regex concept.\n",
        "* The star (*) takes as many character as possible.\n"
      ]
    },
    {
      "cell_type": "code",
      "execution_count": null,
      "metadata": {
        "colab": {
          "base_uri": "https://localhost:8080/"
        },
        "id": "7Hwpl2DNxhSK",
        "outputId": "dc7c568c-173f-4912-d4e7-b3de59cc55b1"
      },
      "outputs": [
        {
          "name": "stdout",
          "output_type": "stream",
          "text": [
            "<re.Match object; span=(0, 6), match='Python'>\n"
          ]
        }
      ],
      "source": [
        "print(re.search(r\"Py[a-z]*n\", \"Python Programming\"))\n",
        "# <re.Match object; span=(0, 6), match='Python'>"
      ]
    },
    {
      "cell_type": "markdown",
      "metadata": {
        "id": "TxqJPlQ7uyxy"
      },
      "source": [
        "* The plus (+) character matches one or more occurrences of the character before it."
      ]
    },
    {
      "cell_type": "code",
      "execution_count": null,
      "metadata": {
        "colab": {
          "base_uri": "https://localhost:8080/"
        },
        "id": "mD9smJvCu3Kx",
        "outputId": "d24daf79-5cdd-4d4c-fb17-a8de232107f3"
      },
      "outputs": [
        {
          "name": "stdout",
          "output_type": "stream",
          "text": [
            "<re.Match object; span=(1, 5), match='ooll'>\n"
          ]
        }
      ],
      "source": [
        "print(re.search(r\"o+l+\", \"woolly\"))\n",
        "# <re.Match object; span=(1, 5), match='ooll'>"
      ]
    },
    {
      "cell_type": "markdown",
      "metadata": {
        "id": "nf41x191u1jI"
      },
      "source": [
        "* The question (?) mark symbol means either zero or one occurrence of the character before it."
      ]
    },
    {
      "cell_type": "code",
      "execution_count": null,
      "metadata": {
        "colab": {
          "base_uri": "https://localhost:8080/"
        },
        "id": "y5yJ1T9xu6cH",
        "outputId": "3ee838ea-be1a-45be-f5b2-afcc3bde32c2"
      },
      "outputs": [
        {
          "name": "stdout",
          "output_type": "stream",
          "text": [
            "<re.Match object; span=(7, 12), match='peach'>\n"
          ]
        }
      ],
      "source": [
        "print(re.search(r\"p?each\", \"I like peaches\"))\n",
        "# <re.Match object; span=(7, 12), match='peach'>"
      ]
    },
    {
      "cell_type": "markdown",
      "metadata": {
        "id": "pIKNu0FBqGDo"
      },
      "source": [
        "## Managing Files & Bash Scripting"
      ]
    },
    {
      "cell_type": "markdown",
      "metadata": {
        "id": "it34SuBKrGqc"
      },
      "source": [
        "### Managing Files with Python\n",
        "\n",
        "* Function `open` will start to open the file.\n",
        "* To read file, use the readline & read function.\n",
        "* To ensure that all open files are always closed, use an alternative method to write it as a block of code  using the `with` keyword.\n",
        "* Function `open` by default using mode \"r\" (read-only), can be used to write file with mode \"w\" (write-only), if file exists will be overwritten. To avoid, use mode \"a\" for append, or mode \"r+\" for read-write.\n",
        "\n"
      ]
    },
    {
      "cell_type": "code",
      "execution_count": null,
      "metadata": {
        "id": "t2fPRjKLikka"
      },
      "outputs": [],
      "source": [
        "text = \"\"\"\n",
        "The itsy bitsy spider climbed up the waterspout.\n",
        "Down came the rain\n",
        "and washed the spider out.\n",
        "\"\"\"\n",
        "\n",
        "with open(\"spider.txt\", \"w\") as file:\n",
        "  file.write(text)"
      ]
    },
    {
      "cell_type": "code",
      "execution_count": null,
      "metadata": {
        "colab": {
          "base_uri": "https://localhost:8080/"
        },
        "id": "rP-j3PQ4rufc",
        "outputId": "514fd3fb-a8f4-4c21-f512-2e70e9e84242"
      },
      "outputs": [
        {
          "name": "stdout",
          "output_type": "stream",
          "text": [
            "\n",
            "The itsy bitsy spider climbed up the waterspout.\n",
            "Down came the rain\n",
            "and washed the spider out.\n",
            "\n"
          ]
        }
      ],
      "source": [
        "with open(\"spider.txt\", \"r\") as file:\n",
        "  print(file.read())"
      ]
    },
    {
      "cell_type": "markdown",
      "metadata": {
        "id": "0LVi_k4-suB9"
      },
      "source": [
        "### Bash Scripting\n",
        "\n",
        "* echo: print information (like environment variable) to standard output\n",
        "* cat file: shows the content of the file through standard output\n",
        "* ls: lists the contents of the current directory\n",
        "* cd directory: change current working directory to the specified one \n",
        "* rm: remove file or directory (with specific arguments)\n",
        "* chmod modifiers files: change permissions for the files according to the provided modifiers\n",
        "* man: show command documentation"
      ]
    },
    {
      "cell_type": "code",
      "execution_count": null,
      "metadata": {
        "colab": {
          "base_uri": "https://localhost:8080/"
        },
        "id": "UtpZYhEqthbe",
        "outputId": "e41ede68-890f-43a7-80d4-a82b3c1bad2a"
      },
      "outputs": [
        {
          "name": "stdout",
          "output_type": "stream",
          "text": [
            "Hello\n"
          ]
        }
      ],
      "source": [
        "!echo \"Hello\""
      ]
    },
    {
      "cell_type": "code",
      "execution_count": null,
      "metadata": {
        "colab": {
          "base_uri": "https://localhost:8080/"
        },
        "id": "wgZGdpQftL-I",
        "outputId": "9a08b077-7860-468b-9cf9-6d158439567c"
      },
      "outputs": [
        {
          "name": "stdout",
          "output_type": "stream",
          "text": [
            "sample_data  spider.txt\n"
          ]
        }
      ],
      "source": [
        "!ls"
      ]
    },
    {
      "cell_type": "code",
      "execution_count": null,
      "metadata": {
        "colab": {
          "base_uri": "https://localhost:8080/"
        },
        "id": "yw5oyWHRsQvj",
        "outputId": "7f651d27-e2c6-410a-eb3f-bc40586e0030"
      },
      "outputs": [
        {
          "name": "stdout",
          "output_type": "stream",
          "text": [
            "\n",
            "The itsy bitsy spider climbed up the waterspout.\n",
            "Down came the rain\n",
            "and washed the spider out.\n"
          ]
        }
      ],
      "source": [
        "!cat \"spider.txt\""
      ]
    },
    {
      "cell_type": "code",
      "execution_count": null,
      "metadata": {
        "colab": {
          "base_uri": "https://localhost:8080/"
        },
        "id": "Ju1Dk6y3tS7b",
        "outputId": "e6dd4f7c-0d5a-459d-d82c-a8e71e8b831f"
      },
      "outputs": [
        {
          "name": "stdout",
          "output_type": "stream",
          "text": [
            "MyFirstFolder  sample_data  spider.txt\n"
          ]
        }
      ],
      "source": [
        "!mkdir \"MyFirstFolder\"\n",
        "!ls"
      ]
    },
    {
      "cell_type": "code",
      "execution_count": null,
      "metadata": {
        "colab": {
          "base_uri": "https://localhost:8080/"
        },
        "id": "_4slrSr9uB1z",
        "outputId": "34483325-0742-4a66-bea5-37914d2f0714"
      },
      "outputs": [
        {
          "name": "stdout",
          "output_type": "stream",
          "text": [
            "MyFirstFolder\n",
            "sample_data\n",
            "spider.txt\n"
          ]
        }
      ],
      "source": [
        "!for i in *; do echo $i; done"
      ]
    },
    {
      "cell_type": "code",
      "execution_count": null,
      "metadata": {
        "id": "X2dOei6ehVt9"
      },
      "outputs": [],
      "source": []
    }
  ],
  "metadata": {
    "colab": {
      "collapsed_sections": [],
      "name": "Demo-ILT 1-Machine Learning",
      "provenance": []
    },
    "kernelspec": {
      "display_name": "Python 3",
      "name": "python3"
    },
    "language_info": {
      "codemirror_mode": {
        "name": "ipython",
        "version": 3
      },
      "file_extension": ".py",
      "mimetype": "text/x-python",
      "name": "python",
      "nbconvert_exporter": "python",
      "pygments_lexer": "ipython3",
      "version": "3.9.5"
    }
  },
  "nbformat": 4,
  "nbformat_minor": 0
}
